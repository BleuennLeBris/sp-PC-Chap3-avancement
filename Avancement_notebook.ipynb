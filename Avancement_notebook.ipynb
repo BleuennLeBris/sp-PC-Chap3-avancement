{
 "cells": [
  {
   "cell_type": "code",
   "execution_count": 2,
   "metadata": {},
   "outputs": [
    {
     "name": "stdout",
     "output_type": "stream",
     "text": [
      "Dans l'état final :\n",
      "Avancement maximal xmax = 1.0 mol\n",
      "nf(Fe2O3) = 0.0 mol\n",
      "nf(CO) = 0.0 mol\n",
      "nf(CO2) = 3.0 mol\n",
      "nf(Fe) = 2.0 mol\n"
     ]
    },
    {
     "data": {
      "text/plain": [
       "<Figure size 640x480 with 1 Axes>"
      ]
     },
     "metadata": {},
     "output_type": "display_data"
    }
   ],
   "source": [
    "import matplotlib.pyplot as plt\n",
    "\n",
    "# Déclaration des coefficients stoechiométriques\n",
    "cs_Fe2O3 = 1\n",
    "cs_CO = 3\n",
    "cs_CO2 = 3\n",
    "cs_Fe = 2\n",
    "\n",
    "# Initialisation des quantités de matières initiales (en mol)\n",
    "no_Fe2O3 = 1\n",
    "no_CO = 3\n",
    "no_CO2 = 0\n",
    "no_Fe = 0\n",
    "\n",
    "# - - - - - - - - - - - - - - - - - -\n",
    "# Corps du programme\n",
    "# - - - - - - - - - - - - - - - - - -\n",
    "\n",
    "# Calcul de l'avancement maximum\n",
    "x_max_Fe2O3 = no_Fe2O3/cs_Fe2O3\n",
    "x_max_CO = no_CO/cs_CO\n",
    "x_max = min(x_max_CO,x_max_Fe2O3)\n",
    "\n",
    "# Création des listes pour tracer les graphiques\n",
    "x = [0,x_max]\n",
    "n_Fe2O3 = [no_Fe2O3,no_Fe2O3-cs_Fe2O3*x_max]\n",
    "n_CO = [no_CO,no_CO - cs_CO*x_max]\n",
    "n_CO2 = [no_CO2,no_CO2 + cs_CO2*x_max]\n",
    "n_Fe = [no_Fe,no_Fe + cs_Fe*x_max]\n",
    "\n",
    "# Quantités de matière dans l'état final\n",
    "print(\"Dans l'état final :\")\n",
    "print(\"Avancement maximal xmax =\", x[1], \"mol\")\n",
    "print(\"nf(Fe2O3) =\", n_Fe2O3[1], \"mol\")\n",
    "print(\"nf(CO) =\", n_CO[1], \"mol\")\n",
    "print(\"nf(CO2) =\", n_CO2[1], \"mol\")\n",
    "print(\"nf(Fe) =\", n_Fe[1], \"mol\")\n",
    "\n",
    "# Création des courbes\n",
    "plt.plot(x,n_Fe2O3,\"b\",label=\"Fe2O3\")\n",
    "plt.plot(x,n_CO,\"y\",label=\"CO\")\n",
    "plt.plot(x,n_CO2,\"r\",label=\"CO2\")\n",
    "plt.plot(x,n_Fe,\"g\",label=\"Fe\")\n",
    "\n",
    "# Réglages axes\n",
    "plt.xlabel(\"Avancement (mol)\")\n",
    "plt.ylabel(\"Quantité de matière (mol)\")\n",
    "plt.title(\"Evolution de la réaction de combustion\")\n",
    "\n",
    "# Affichage du graphique\n",
    "plt.grid()\n",
    "plt.legend()\n",
    "plt.show()\n",
    "\n"
   ]
  },
  {
   "cell_type": "code",
   "execution_count": null,
   "metadata": {},
   "outputs": [],
   "source": []
  }
 ],
 "metadata": {
  "kernelspec": {
   "display_name": "Python 3",
   "language": "python",
   "name": "python3"
  },
  "language_info": {
   "codemirror_mode": {
    "name": "ipython",
    "version": 3
   },
   "file_extension": ".py",
   "mimetype": "text/x-python",
   "name": "python",
   "nbconvert_exporter": "python",
   "pygments_lexer": "ipython3",
   "version": "3.7.3"
  }
 },
 "nbformat": 4,
 "nbformat_minor": 2
}
